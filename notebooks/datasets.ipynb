{
 "cells": [
  {
   "cell_type": "code",
   "execution_count": 1,
   "id": "ad1ca405",
   "metadata": {},
   "outputs": [],
   "source": [
    "import os\n",
    "os.chdir(\"..\")"
   ]
  },
  {
   "cell_type": "code",
   "execution_count": null,
   "id": "5fb2174d",
   "metadata": {},
   "outputs": [
    {
     "name": "stdout",
     "output_type": "stream",
     "text": [
      "./data/scifact.zip: 100%|██████████████████| 2.69M/2.69M [00:05<00:00, 534kiB/s]\n",
      "Downloaded/ready at: ./data/scifact/scifact\n"
     ]
    }
   ],
   "source": [
    "# fact checking - scifact\n",
    "!python scripts/download_beir.py --dataset scifact --out ./data"
   ]
  },
  {
   "cell_type": "code",
   "execution_count": 7,
   "id": "5eb7079d",
   "metadata": {},
   "outputs": [
    {
     "name": "stdout",
     "output_type": "stream",
     "text": [
      "./data/scidocs.zip: 100%|████████████████████| 136M/136M [03:31<00:00, 674kiB/s]\n",
      "Downloaded/ready at: ./data/scidocs/scidocs\n"
     ]
    }
   ],
   "source": [
    "# citation prediction - scidocs\n",
    "!python scripts/download_beir.py --dataset scidocs --out ./data"
   ]
  },
  {
   "cell_type": "code",
   "execution_count": 10,
   "id": "9b696911",
   "metadata": {},
   "outputs": [
    {
     "name": "stdout",
     "output_type": "stream",
     "text": [
      "./data/cqadupstack.zip:   1%|            | 29.5M/4.98G [00:59<7:38:37, 193kiB/s]^C\n",
      "  File \"/Users/nkapila6/Code/rag-benchmarks/.venv/lib/python3.11/site-packages/urllib3/response.py\", line 1091, in stream\n",
      "    data = self.read(amt=amt, decode_content=decode_content)\n",
      "           ^^^^^^^^^^^^^^^^^^^^^^^^^^^^^^^^^^^^^^^^^^^^^^^^^\n",
      "  File \"/Users/nkapila6/Code/rag-benchmarks/.venv/lib/python3.11/site-packages/urllib3/response.py\", line 980, in read\n",
      "    data = self._raw_read(amt)\n",
      "           ^^^^^^^^^^^^^^^^^^^\n",
      "  File \"/Users/nkapila6/Code/rag-benchmarks/.venv/lib/python3.11/site-packages/urllib3/response.py\", line 904, in _raw_read\n",
      "    data = self._fp_read(amt, read1=read1) if not fp_closed else b\"\"\n",
      "           ^^^^^^^^^^^^^^^^^^^^^^^^^^^^^^^\n",
      "  File \"/Users/nkapila6/Code/rag-benchmarks/.venv/lib/python3.11/site-packages/urllib3/response.py\", line 887, in _fp_read\n",
      "    return self._fp.read(amt) if amt is not None else self._fp.read()\n",
      "           ^^^^^^^^^^^^^^^^^^\n",
      "  File \"/Users/nkapila6/.local/share/uv/python/cpython-3.11.11-macos-aarch64-none/lib/python3.11/http/client.py\", line 473, in read\n",
      "    s = self.fp.read(amt)\n",
      "        ^^^^^^^^^^^^^^^^^\n",
      "  File \"/Users/nkapila6/.local/share/uv/python/cpython-3.11.11-macos-aarch64-none/lib/python3.11/socket.py\", line 718, in readinto\n",
      "    return self._sock.recv_into(b)\n",
      "           ^^^^^^^^^^^^^^^^^^^^^^^\n",
      "  File \"/Users/nkapila6/.local/share/uv/python/cpython-3.11.11-macos-aarch64-none/lib/python3.11/ssl.py\", line 1314, in recv_into\n",
      "    return self.read(nbytes, buffer)\n",
      "           ^^^^^^^^^^^^^^^^^^^^^^^^^\n",
      "  File \"/Users/nkapila6/.local/share/uv/python/cpython-3.11.11-macos-aarch64-none/lib/python3.11/ssl.py\", line 1166, in read\n",
      "    return self._sslobj.read(len, buffer)\n",
      "           ^^^^^^^^^^^^^^^^^^^^^^^^^^^^^^\n",
      "KeyboardInterrupt\n"
     ]
    }
   ],
   "source": [
    "# dup question retrieval - cqadupstack\n",
    "!python scripts/download_beir.py --dataset cqadupstack --out ./data"
   ]
  },
  {
   "cell_type": "code",
   "execution_count": 11,
   "id": "d2ac3a40",
   "metadata": {},
   "outputs": [
    {
     "name": "stdout",
     "output_type": "stream",
     "text": [
      "./data/arguana.zip: 100%|██████████████████| 3.60M/3.60M [00:04<00:00, 911kiB/s]\n",
      "Downloaded/ready at: ./data/arguana/arguana\n"
     ]
    }
   ],
   "source": [
    "# argument retrieval - arguana\n",
    "!python scripts/download_beir.py --dataset arguana --out ./data"
   ]
  },
  {
   "cell_type": "code",
   "execution_count": 14,
   "id": "e88e6051",
   "metadata": {},
   "outputs": [
    {
     "name": "stdout",
     "output_type": "stream",
     "text": [
      "./data/trec-news.zip: 100%|████████████████████| 146/146 [00:00<00:00, 165kiB/s]\n",
      "Traceback (most recent call last):\n",
      "  File \"/Users/nkapila6/Code/rag-benchmarks/scripts/download_beir.py\", line 25, in <module>\n",
      "    main() \n",
      "    ^^^^^^\n",
      "  File \"/Users/nkapila6/Code/rag-benchmarks/scripts/download_beir.py\", line 20, in main\n",
      "    path = download_beir_dataset(args.dataset, args.out)\n",
      "           ^^^^^^^^^^^^^^^^^^^^^^^^^^^^^^^^^^^^^^^^^^^^^\n",
      "  File \"/Users/nkapila6/Code/rag-benchmarks/rag/utils/downloader.py\", line 22, in download_beir_dataset\n",
      "    out_dir = util.download_and_unzip(url, out_dir)\n",
      "              ^^^^^^^^^^^^^^^^^^^^^^^^^^^^^^^^^^^^^\n",
      "  File \"/Users/nkapila6/Code/rag-benchmarks/.venv/lib/python3.11/site-packages/beir/util.py\", line 101, in download_and_unzip\n",
      "    unzip(zip_file, out_dir)\n",
      "  File \"/Users/nkapila6/Code/rag-benchmarks/.venv/lib/python3.11/site-packages/beir/util.py\", line 85, in unzip\n",
      "    zip_ = zipfile.ZipFile(zip_file, \"r\")\n",
      "           ^^^^^^^^^^^^^^^^^^^^^^^^^^^^^^\n",
      "  File \"/Users/nkapila6/.local/share/uv/python/cpython-3.11.11-macos-aarch64-none/lib/python3.11/zipfile.py\", line 1313, in __init__\n",
      "    self._RealGetContents()\n",
      "  File \"/Users/nkapila6/.local/share/uv/python/cpython-3.11.11-macos-aarch64-none/lib/python3.11/zipfile.py\", line 1380, in _RealGetContents\n",
      "    raise BadZipFile(\"File is not a zip file\")\n",
      "zipfile.BadZipFile: File is not a zip file\n"
     ]
    }
   ],
   "source": [
    "# news retrieval - trec-news\n",
    "!python scripts/download_beir.py --dataset trec-news --out ./data"
   ]
  },
  {
   "cell_type": "code",
   "execution_count": 15,
   "id": "47029b4f",
   "metadata": {},
   "outputs": [
    {
     "name": "stdout",
     "output_type": "stream",
     "text": [
      "./data/fiqa.zip: 100%|█████████████████████| 17.1M/17.1M [00:33<00:00, 535kiB/s]\n",
      "Downloaded/ready at: ./data/fiqa/fiqa\n"
     ]
    }
   ],
   "source": [
    "# ques-ans - fiqa\n",
    "!python scripts/download_beir.py --dataset fiqa --out ./data"
   ]
  },
  {
   "cell_type": "code",
   "execution_count": 16,
   "id": "bec83d57",
   "metadata": {},
   "outputs": [
    {
     "name": "stdout",
     "output_type": "stream",
     "text": [
      "./data/signal1m.zip: 100%|█████████████████████| 146/146 [00:00<00:00, 391kiB/s]\n",
      "Traceback (most recent call last):\n",
      "  File \"/Users/nkapila6/Code/rag-benchmarks/scripts/download_beir.py\", line 25, in <module>\n",
      "    main() \n",
      "    ^^^^^^\n",
      "  File \"/Users/nkapila6/Code/rag-benchmarks/scripts/download_beir.py\", line 20, in main\n",
      "    path = download_beir_dataset(args.dataset, args.out)\n",
      "           ^^^^^^^^^^^^^^^^^^^^^^^^^^^^^^^^^^^^^^^^^^^^^\n",
      "  File \"/Users/nkapila6/Code/rag-benchmarks/rag/utils/downloader.py\", line 22, in download_beir_dataset\n",
      "    out_dir = util.download_and_unzip(url, out_dir)\n",
      "              ^^^^^^^^^^^^^^^^^^^^^^^^^^^^^^^^^^^^^\n",
      "  File \"/Users/nkapila6/Code/rag-benchmarks/.venv/lib/python3.11/site-packages/beir/util.py\", line 101, in download_and_unzip\n",
      "    unzip(zip_file, out_dir)\n",
      "  File \"/Users/nkapila6/Code/rag-benchmarks/.venv/lib/python3.11/site-packages/beir/util.py\", line 85, in unzip\n",
      "    zip_ = zipfile.ZipFile(zip_file, \"r\")\n",
      "           ^^^^^^^^^^^^^^^^^^^^^^^^^^^^^^\n",
      "  File \"/Users/nkapila6/.local/share/uv/python/cpython-3.11.11-macos-aarch64-none/lib/python3.11/zipfile.py\", line 1313, in __init__\n",
      "    self._RealGetContents()\n",
      "  File \"/Users/nkapila6/.local/share/uv/python/cpython-3.11.11-macos-aarch64-none/lib/python3.11/zipfile.py\", line 1380, in _RealGetContents\n",
      "    raise BadZipFile(\"File is not a zip file\")\n",
      "zipfile.BadZipFile: File is not a zip file\n"
     ]
    }
   ],
   "source": [
    "# tweet retrieval - signal1m\n",
    "!python scripts/download_beir.py --dataset signal1m --out ./data"
   ]
  },
  {
   "cell_type": "code",
   "execution_count": 17,
   "id": "714c39d4",
   "metadata": {},
   "outputs": [
    {
     "name": "stdout",
     "output_type": "stream",
     "text": [
      "./data/dbpedia-entity.zip: 100%|█████████████| 610M/610M [22:23<00:00, 476kiB/s]\n",
      "Downloaded/ready at: ./data/dbpedia-entity/dbpedia-entity\n"
     ]
    }
   ],
   "source": [
    "# entity retrieval - dbpedia-entity\n",
    "!python scripts/download_beir.py --dataset dbpedia-entity --out ./data"
   ]
  },
  {
   "cell_type": "code",
   "execution_count": null,
   "id": "128df548",
   "metadata": {},
   "outputs": [
    {
     "name": "stdout",
     "output_type": "stream",
     "text": [
      "./data/nfcorpus.zip: 100%|█████████████████| 2.34M/2.34M [00:03<00:00, 658kiB/s]\n",
      "Downloaded/ready at: ./data/nfcorpus/nfcorpus\n"
     ]
    }
   ],
   "source": [
    "# biomedical ir - nfcorpus\n",
    "!python scripts/download_beir.py --dataset nfcorpus --out ./data"
   ]
  }
 ],
 "metadata": {
  "kernelspec": {
   "display_name": ".venv",
   "language": "python",
   "name": "python3"
  },
  "language_info": {
   "codemirror_mode": {
    "name": "ipython",
    "version": 3
   },
   "file_extension": ".py",
   "mimetype": "text/x-python",
   "name": "python",
   "nbconvert_exporter": "python",
   "pygments_lexer": "ipython3",
   "version": "3.11.11"
  }
 },
 "nbformat": 4,
 "nbformat_minor": 5
}
