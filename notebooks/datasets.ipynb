{
 "cells": [
  {
   "cell_type": "code",
   "execution_count": 1,
   "id": "ad1ca405",
   "metadata": {},
   "outputs": [],
   "source": [
    "import os\n",
    "os.chdir(\"..\")"
   ]
  },
  {
   "cell_type": "code",
   "execution_count": null,
   "id": "5fb2174d",
   "metadata": {},
   "outputs": [
    {
     "name": "stdout",
     "output_type": "stream",
     "text": [
      "./data/scifact.zip: 100%|██████████████████| 2.69M/2.69M [00:05<00:00, 534kiB/s]\n",
      "Downloaded/ready at: ./data/scifact/scifact\n"
     ]
    }
   ],
   "source": [
    "# fact checking - scifact\n",
    "!python scripts/download_beir.py --dataset scifact --out ./data"
   ]
  },
  {
   "cell_type": "code",
   "execution_count": 7,
   "id": "5eb7079d",
   "metadata": {},
   "outputs": [
    {
     "name": "stdout",
     "output_type": "stream",
     "text": [
      "./data/scidocs.zip: 100%|████████████████████| 136M/136M [03:31<00:00, 674kiB/s]\n",
      "Downloaded/ready at: ./data/scidocs/scidocs\n"
     ]
    }
   ],
   "source": [
    "# citation prediction - scidocs\n",
    "!python scripts/download_beir.py --dataset scidocs --out ./data"
   ]
  },
  {
   "cell_type": "code",
   "execution_count": 11,
   "id": "90e2a523",
   "metadata": {},
   "outputs": [
    {
     "name": "stdout",
     "output_type": "stream",
     "text": [
      "The url is https://public.ukp.informatik.tu-darmstadt.de/thakur/BEIR/datasets/quora.zip\n",
      "./data/quora.zip: 100%|████████████████████| 15.1M/15.1M [00:53<00:00, 296kiB/s]\n",
      "Downloaded/ready at: ./data/quora/quora\n"
     ]
    }
   ],
   "source": [
    "# dup question retrieval - quora\n",
    "!python scripts/download_beir.py --dataset quora --out ./data"
   ]
  },
  {
   "cell_type": "code",
   "execution_count": 11,
   "id": "d2ac3a40",
   "metadata": {},
   "outputs": [
    {
     "name": "stdout",
     "output_type": "stream",
     "text": [
      "./data/arguana.zip: 100%|██████████████████| 3.60M/3.60M [00:04<00:00, 911kiB/s]\n",
      "Downloaded/ready at: ./data/arguana/arguana\n"
     ]
    }
   ],
   "source": [
    "# argument retrieval - arguana\n",
    "!python scripts/download_beir.py --dataset arguana --out ./data"
   ]
  },
  {
   "cell_type": "code",
   "execution_count": null,
   "id": "e88e6051",
   "metadata": {},
   "outputs": [
    {
     "name": "stdout",
     "output_type": "stream",
     "text": [
      "\u001b[2mResolved \u001b[1m205 packages\u001b[0m \u001b[2min 9ms\u001b[0m\u001b[0m\n",
      "\u001b[2mAudited \u001b[1m183 packages\u001b[0m \u001b[2min 0.30ms\u001b[0m\u001b[0m\n"
     ]
    }
   ],
   "source": [
    "# cannot download news retrieval, download links not available\n",
    "# see `Available Datasets` table at https://pypi.org/project/beir/0.2.3/"
   ]
  },
  {
   "cell_type": "code",
   "execution_count": 15,
   "id": "47029b4f",
   "metadata": {},
   "outputs": [
    {
     "name": "stdout",
     "output_type": "stream",
     "text": [
      "./data/fiqa.zip: 100%|█████████████████████| 17.1M/17.1M [00:33<00:00, 535kiB/s]\n",
      "Downloaded/ready at: ./data/fiqa/fiqa\n"
     ]
    }
   ],
   "source": [
    "# ques-ans - fiqa\n",
    "!python scripts/download_beir.py --dataset fiqa --out ./data"
   ]
  },
  {
   "cell_type": "code",
   "execution_count": 15,
   "id": "bec83d57",
   "metadata": {},
   "outputs": [],
   "source": [
    "# cannot download tweet retrieval, download links not available\n",
    "# see `Available Datasets` table at https://pypi.org/project/beir/0.2.3/"
   ]
  },
  {
   "cell_type": "code",
   "execution_count": 17,
   "id": "714c39d4",
   "metadata": {},
   "outputs": [
    {
     "name": "stdout",
     "output_type": "stream",
     "text": [
      "./data/dbpedia-entity.zip: 100%|█████████████| 610M/610M [22:23<00:00, 476kiB/s]\n",
      "Downloaded/ready at: ./data/dbpedia-entity/dbpedia-entity\n"
     ]
    }
   ],
   "source": [
    "# entity retrieval - dbpedia-entity\n",
    "!python scripts/download_beir.py --dataset dbpedia-entity --out ./data"
   ]
  },
  {
   "cell_type": "code",
   "execution_count": null,
   "id": "128df548",
   "metadata": {},
   "outputs": [
    {
     "name": "stdout",
     "output_type": "stream",
     "text": [
      "./data/nfcorpus.zip: 100%|█████████████████| 2.34M/2.34M [00:03<00:00, 658kiB/s]\n",
      "Downloaded/ready at: ./data/nfcorpus/nfcorpus\n"
     ]
    }
   ],
   "source": [
    "# biomedical ir - nfcorpus\n",
    "!python scripts/download_beir.py --dataset nfcorpus --out ./data"
   ]
  }
 ],
 "metadata": {
  "kernelspec": {
   "display_name": ".venv",
   "language": "python",
   "name": "python3"
  },
  "language_info": {
   "codemirror_mode": {
    "name": "ipython",
    "version": 3
   },
   "file_extension": ".py",
   "mimetype": "text/x-python",
   "name": "python",
   "nbconvert_exporter": "python",
   "pygments_lexer": "ipython3",
   "version": "3.11.11"
  }
 },
 "nbformat": 4,
 "nbformat_minor": 5
}
