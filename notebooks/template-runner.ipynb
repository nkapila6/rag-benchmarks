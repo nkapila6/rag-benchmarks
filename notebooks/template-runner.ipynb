{
 "cells": [
  {
   "cell_type": "code",
   "execution_count": null,
   "id": "15cf7ccf",
   "metadata": {},
   "outputs": [],
   "source": [
    "import os\n",
    "os.chdir('..')"
   ]
  },
  {
   "cell_type": "code",
   "execution_count": null,
   "id": "bad38619",
   "metadata": {},
   "outputs": [],
   "source": [
    "import torch\n",
    "\n",
    "def get_best_device():\n",
    "    if torch.cuda.is_available():\n",
    "        print(\"Found CUDA GPU.\")\n",
    "    elif torch.backends.mps.is_available():\n",
    "        print(\"Found Apple Silicon GPU.\")\n",
    "    else:\n",
    "        print(\"No GPU found. Using 'cpu'.\")\n",
    "\n",
    "print(os.getcwd())\n",
    "get_best_device()\n"
   ]
  },
  {
   "cell_type": "code",
   "execution_count": null,
   "id": "64a95540",
   "metadata": {},
   "outputs": [],
   "source": [
    "!python scripts/run_all_combinations.py"
   ]
  }
 ],
 "metadata": {
  "kernelspec": {
   "display_name": ".venv",
   "language": "python",
   "name": "python3"
  },
  "language_info": {
   "name": "python",
   "version": "3.11.11"
  }
 },
 "nbformat": 4,
 "nbformat_minor": 5
}
