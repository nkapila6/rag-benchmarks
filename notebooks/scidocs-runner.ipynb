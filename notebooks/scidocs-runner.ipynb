{
 "cells": [
  {
   "cell_type": "code",
   "execution_count": null,
   "id": "xvelx7iQ_hrf",
   "metadata": {
    "colab": {
     "base_uri": "https://localhost:8080/"
    },
    "executionInfo": {
     "elapsed": 2134,
     "status": "ok",
     "timestamp": 1755958460311,
     "user": {
      "displayName": "Nikhil Kapila",
      "userId": "09064794466394477334"
     },
     "user_tz": -330
    },
    "id": "xvelx7iQ_hrf",
    "outputId": "704a6dd3-1500-4000-bb4e-e38773a3b32d"
   },
   "outputs": [],
   "source": [
    "# running on Runpod\n",
    "# import os\n",
    "# from google.colab import drive\n",
    "# drive.mount('/content/drive')\n",
    "# os.chdir(\"/content/drive/MyDrive/rag-benchmarks\")"
   ]
  },
  {
   "cell_type": "code",
   "execution_count": null,
   "id": "15cf7ccf",
   "metadata": {
    "colab": {
     "base_uri": "https://localhost:8080/"
    },
    "executionInfo": {
     "elapsed": 16,
     "status": "ok",
     "timestamp": 1755958461751,
     "user": {
      "displayName": "Nikhil Kapila",
      "userId": "09064794466394477334"
     },
     "user_tz": -330
    },
    "id": "15cf7ccf",
    "outputId": "21e9f086-8169-456a-c199-f895e316fb70"
   },
   "outputs": [],
   "source": [
    "import os\n",
    "os.chdir('..')\n",
    "print(os.getcwd())\n",
    "print(os.listdir())"
   ]
  },
  {
   "cell_type": "code",
   "execution_count": null,
   "id": "bad38619",
   "metadata": {
    "colab": {
     "base_uri": "https://localhost:8080/"
    },
    "executionInfo": {
     "elapsed": 1681,
     "status": "ok",
     "timestamp": 1755958488700,
     "user": {
      "displayName": "Nikhil Kapila",
      "userId": "09064794466394477334"
     },
     "user_tz": -330
    },
    "id": "bad38619",
    "outputId": "b27bc3c8-53c6-4288-84d2-06a73f142816"
   },
   "outputs": [],
   "source": [
    "import torch\n",
    "\n",
    "def get_best_device():\n",
    "    if torch.cuda.is_available():\n",
    "        print(\"Found CUDA GPU.\")\n",
    "    elif torch.backends.mps.is_available():\n",
    "        print(\"Found Apple Silicon GPU.\")\n",
    "    else:\n",
    "        print(\"No GPU found. Using 'cpu'.\")\n",
    "\n",
    "print(os.getcwd())\n",
    "get_best_device()\n"
   ]
  },
  {
   "cell_type": "code",
   "execution_count": null,
   "id": "64a95540",
   "metadata": {
    "colab": {
     "background_save": true,
     "base_uri": "https://localhost:8080/",
     "output_embedded_package_id": "15DOCcL-fGg1TSiE0rNX4s2byDi9Ylny9"
    },
    "id": "64a95540",
    "outputId": "deb60c39-f306-42f3-af7f-6e04c880b48a"
   },
   "outputs": [],
   "source": [
    "# fetched from run_all_combinations.py with scope limited to scidocs dataset\n",
    "import subprocess\n",
    "import sys\n",
    "import json\n",
    "import pandas as pd\n",
    "import os\n",
    "\n",
    "# Define retrieval and rerank combos\n",
    "COMBINATIONS = [\n",
    "    # Sparse retrieval\n",
    "    {\"retrieval\": \"tfidf\", \"rerank\": None, \"desc\": \"TFIDF + no reranking (BASELINE)\"},\n",
    "    {\"retrieval\": \"tfidf\", \"rerank\": \"bi_encoder\", \"desc\": \"TFIDF + bi encoder rerank\"},\n",
    "    {\"retrieval\": \"tfidf\", \"rerank\": \"cross_encoder\", \"desc\": \"TFIDF + cross encoder rerank\"},\n",
    "    {\"retrieval\": \"bm25\", \"rerank\": None, \"desc\": \"BM25 + No reranking\"},\n",
    "    {\"retrieval\": \"bm25\", \"rerank\": \"bi_encoder\", \"desc\": \"BM25 + bi encoder rerank\"},\n",
    "    {\"retrieval\": \"bm25\", \"rerank\": \"cross_encoder\", \"desc\": \"BM25 + cross encoder rerank\"},\n",
    "    # Dense retrieval\n",
    "    {\"retrieval\": \"dense\", \"rerank\": None, \"desc\": \"Dense + no rerank\"},\n",
    "    {\"retrieval\": \"dense\", \"rerank\": \"bi_encoder\", \"desc\": \"Dense + bi encoder\"},\n",
    "    {\"retrieval\": \"dense\", \"rerank\": \"cross_encoder\", \"desc\": \"Dense + cross encoder\"},\n",
    "    # Hybrid retrieval (RRF)\n",
    "    {\"retrieval\": \"hybrid\", \"rerank\": None, \"desc\": \"Hybrid + no rerank\"},\n",
    "    {\"retrieval\": \"hybrid\", \"rerank\": \"bi_encoder\", \"desc\": \"Hybrid + bi encoder\"},\n",
    "    {\"retrieval\": \"hybrid\", \"rerank\": \"cross_encoder\", \"desc\": \"Hybrid + cross encoder\"},\n",
    "]\n",
    "\n",
    "dataset_to_run = \"scidocs\"\n",
    "output_dir = 'outputs'\n",
    "os.makedirs(output_dir, exist_ok=True)\n",
    "all_results = []\n",
    "\n",
    "print(f\"=== Running experiments for dataset: {dataset_to_run} ===\")\n",
    "for combo in COMBINATIONS:\n",
    "    print(f\"--- {combo['desc']} ---\")\n",
    "    try:\n",
    "        reranker_name = combo[\"rerank\"].split('_')[0] if combo[\"rerank\"] else \"none\"\n",
    "        output_filename = f\"{dataset_to_run}_{combo['retrieval']}_{reranker_name}.json\"\n",
    "        output_path = os.path.join(output_dir, output_filename)\n",
    "\n",
    "        command = [\n",
    "            \"python\",\n",
    "            \"scripts/run_experiment.py\",\n",
    "            \"--dataset\",\n",
    "            dataset_to_run,\n",
    "            \"--retriever\",\n",
    "            combo[\"retrieval\"],\n",
    "            \"--reranker\",\n",
    "            reranker_name,\n",
    "            \"--output\",\n",
    "            output_path,\n",
    "            \"--top_k\",\n",
    "            \"100\",\n",
    "            \"--device\",\n",
    "            \"cuda\" if torch.cuda.is_available() else \"mps\" if torch.backends.mps.is_available() else \"cpu\",\n",
    "        ]\n",
    "\n",
    "        # Use ! to run the command in the notebook\n",
    "        # This is equivalent to subprocess.run but shows output live\n",
    "        !{' '.join(command)}\n",
    "\n",
    "        with open(output_path, 'r') as f:\n",
    "            results = json.load(f)\n",
    "\n",
    "        results['dataset'] = dataset_to_run\n",
    "        results['retriever'] = combo['retrieval']\n",
    "        results['reranker'] = combo['rerank'] if combo['rerank'] else \"none\"\n",
    "        all_results.append(results)\n",
    "\n",
    "    except Exception as e:\n",
    "        print(f\"An unexpected error occurred: {e}\")\n",
    "\n",
    "if all_results:\n",
    "    results_df = pd.DataFrame(all_results)\n",
    "    results_csv_path = f'{dataset_to_run}_results.csv'\n",
    "    results_df.to_csv(results_csv_path, index=False)\n",
    "    print(f\"All experiments complete. Results saved to {results_csv_path}\")\n",
    "    display(results_df)\n"
   ]
  }
 ],
 "metadata": {
  "accelerator": "GPU",
  "colab": {
   "gpuType": "L4",
   "name": "",
   "version": ""
  },
  "kernelspec": {
   "display_name": ".venv",
   "language": "python",
   "name": "python3"
  },
  "language_info": {
   "codemirror_mode": {
    "name": "ipython",
    "version": 3
   },
   "file_extension": ".py",
   "mimetype": "text/x-python",
   "name": "python",
   "nbconvert_exporter": "python",
   "pygments_lexer": "ipython3",
   "version": "3.11.11"
  }
 },
 "nbformat": 4,
 "nbformat_minor": 5
}
